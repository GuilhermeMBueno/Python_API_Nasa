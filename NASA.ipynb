{
 "cells": [
  {
   "cell_type": "code",
   "execution_count": null,
   "metadata": {},
   "outputs": [
    {
     "ename": "",
     "evalue": "",
     "output_type": "error",
     "traceback": [
      "\u001b[1;31mA execução de células com 'Python 3.10.11' requer o pacote ipykernel.\n",
      "\u001b[1;31mExecute o seguinte comando para instalar \"ipykernel\" no ambiente do Python. \n",
      "\u001b[1;31mComando: \"\"c:/Users/Guilherme Bueno/AppData/Local/Microsoft/WindowsApps/python3.10.exe\" -m pip install ipykernel -U --user --force-reinstall\""
     ]
    }
   ],
   "source": [
    "import requests\n",
    "import pandas as pd\n",
    "import os\n",
    "\n",
    "# Substitua 'SUA_CHAVE_DE_API_AQUI' pela sua chave de API da NASA\n",
    "api_key = 'sALemeISsJ3ahHDPK3VGEhpWslpA0DGrDcoP9DF7'\n",
    "\n",
    "\n",
    "def obter_dados_api(url):\n",
    "    # Fazendo a solicitação GET para a API\n",
    "    response = requests.get(url)\n",
    "\n",
    "    # Verificando se a solicitação foi bem-sucedida\n",
    "    if response.status_code == 200:\n",
    "        # Convertendo a resposta para formato JSON\n",
    "        data = response.json()\n",
    "        # Retornando os dados\n",
    "        return data\n",
    "    else:\n",
    "        print(\"Erro ao acessar a API\")\n",
    "\n",
    "# URL da API para coletar informações dos ROVERS\n",
    "url = f\"https://api.nasa.gov/mars-photos/api/v1/rovers/Perseverance/photos?earth_date=2024-10-27&api_key={api_key}\"\n",
    "\n",
    "print(url)\n",
    "# Obtendo os dados da API\n",
    "dados = obter_dados_api(url)\n",
    "\n",
    "#exibindo os dados brutos\n",
    "dados"
   ]
  },
  {
   "cell_type": "code",
   "execution_count": null,
   "metadata": {},
   "outputs": [],
   "source": [
    "# Inicializando uma lista para armazenar os dados do rover\n",
    "photo_data = []\n",
    "for photo in dados['photos']:\n",
    "    photo_data.append({\n",
    "        'photo_id': photo['id'],\n",
    "        'sol': photo['sol'],\n",
    "        'camera_id': photo['camera']['id'],\n",
    "        'camera_name': photo['camera']['name'],\n",
    "        'camera_full_name': photo['camera']['full_name'],\n",
    "        'img_src': photo['img_src'],\n",
    "        'earth_date': photo['earth_date'],\n",
    "        'rover_id': photo['rover']['id'],\n",
    "        'rover_name': photo['rover']['name'],\n",
    "        'rover_landing_date': photo['rover']['landing_date'],\n",
    "        'rover_launch_date': photo['rover']['launch_date'],\n",
    "        'rover_status': photo['rover']['status'],\n",
    "    })\n",
    "\n",
    "# Criando o DataFrame a partir da lista de dicionários\n",
    "df = pd.DataFrame(photo_data)\n",
    "\n",
    "# Exibindo o DataFrame\n",
    "df\n",
    "\n",
    "# Salvar o DataFrame em formato CSV\n",
    "df.to_csv('nasa_photos.csv', index=False)\n",
    "\n",
    "# Criar o diretório para salvar as fotos\n",
    "directory = 'Perseverance'\n",
    "os.makedirs(directory, exist_ok=True)\n",
    "\n",
    "\n",
    "# Baixar cada uma das fotos e salvar no diretório\n",
    "for photo in photo_data:\n",
    "    img_url = photo['img_src']\n",
    "    img_name = os.path.join(directory, f\"{photo['photo_id']}.jpg\")\n",
    "    response = requests.get(img_url)\n",
    "    if response.status_code == 200:\n",
    "        with open(img_name, 'wb') as img_file:\n",
    "            img_file.write(response.content)\n",
    "            print(f\"baixei a imagem: {img_name}\")\n"
   ]
  }
 ],
 "metadata": {
  "kernelspec": {
   "display_name": "Python 3",
   "language": "python",
   "name": "python3"
  },
  "language_info": {
   "name": "python",
   "version": "3.10.11"
  }
 },
 "nbformat": 4,
 "nbformat_minor": 2
}
